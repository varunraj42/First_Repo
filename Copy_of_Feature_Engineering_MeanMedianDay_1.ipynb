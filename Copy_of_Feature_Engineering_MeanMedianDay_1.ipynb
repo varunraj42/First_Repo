{
  "nbformat": 4,
  "nbformat_minor": 0,
  "metadata": {
    "kernelspec": {
      "display_name": "Python 3",
      "language": "python",
      "name": "python3"
    },
    "language_info": {
      "codemirror_mode": {
        "name": "ipython",
        "version": 3
      },
      "file_extension": ".py",
      "mimetype": "text/x-python",
      "name": "python",
      "nbconvert_exporter": "python",
      "pygments_lexer": "ipython3",
      "version": "3.7.3"
    },
    "colab": {
      "name": "Copy of Feature Engineering- MeanMedianDay 1.ipynb",
      "provenance": [],
      "collapsed_sections": [],
      "include_colab_link": true
    }
  },
  "cells": [
    {
      "cell_type": "markdown",
      "metadata": {
        "id": "view-in-github",
        "colab_type": "text"
      },
      "source": [
        "<a href=\"https://colab.research.google.com/github/varunraj42/First_Repo/blob/fresh_branch/Copy_of_Feature_Engineering_MeanMedianDay_1.ipynb\" target=\"_parent\"><img src=\"https://colab.research.google.com/assets/colab-badge.svg\" alt=\"Open In Colab\"/></a>"
      ]
    },
    {
      "cell_type": "markdown",
      "metadata": {
        "id": "gHNd438cSQwI"
      },
      "source": [
        "## Missing Values- Feature Engineering- Day 1"
      ]
    },
    {
      "cell_type": "markdown",
      "metadata": {
        "id": "Nw2Z6MFsSQwV"
      },
      "source": [
        "Lifecycle of a Data Science Projects\n",
        "1. Data Collection Statergy---from company side,3rd party APi's,Surveys,Surveys\n",
        "2. Feature Engineering---Handling Missing Values\n",
        "\n",
        "Why are their Missing values?? Survey--Depression Survey\n",
        "1. They hesitate to put down the information\n",
        "2. Survey informations are not that valid\n",
        "3. Men--salary\n",
        "4. Women---age\n",
        "5. People may have died----NAN\n",
        "\n",
        "Data Science Projects---Dataset should be collected from multiple sources"
      ]
    },
    {
      "cell_type": "markdown",
      "metadata": {
        "id": "JMzcee7_SQwW"
      },
      "source": [
        "#### What are the different types of Missing Data?\n",
        "\n",
        "1. ##### Missing Completely at Random, MCAR:\n",
        "A variable is missing completely at random (MCAR) if the probability of being missing is the same for all the observations. When data is MCAR, there is absolutely no relationship between the data missing and any other values, observed or missing, within the dataset. In other words, those missing data points are a random subset of the data. There is nothing systematic going on that makes some data more likely to be missing than other.\n"
      ]
    },
    {
      "cell_type": "code",
      "metadata": {
        "id": "bV6iEGi-SQwX"
      },
      "source": [
        "import pandas as pd\r\n",
        "import seaborn as sns"
      ],
      "execution_count": 790,
      "outputs": []
    },
    {
      "cell_type": "code",
      "metadata": {
        "id": "7h5vaX6XSQwZ",
        "colab": {
          "base_uri": "https://localhost:8080/"
        },
        "outputId": "db231448-4d1d-45fd-f0fe-92c65c247e94"
      },
      "source": [
        "pd.set_option('display.max_rows', 500)\r\n",
        "titanic=pd.read_csv('train.csv')  \r\n",
        "titanic.isnull().sum()"
      ],
      "execution_count": 791,
      "outputs": [
        {
          "output_type": "execute_result",
          "data": {
            "text/plain": [
              "PassengerId      0\n",
              "Survived         0\n",
              "Pclass           0\n",
              "Name             0\n",
              "Sex              0\n",
              "Age            177\n",
              "SibSp            0\n",
              "Parch            0\n",
              "Ticket           0\n",
              "Fare             0\n",
              "Cabin          687\n",
              "Embarked         2\n",
              "dtype: int64"
            ]
          },
          "metadata": {
            "tags": []
          },
          "execution_count": 791
        }
      ]
    },
    {
      "cell_type": "code",
      "metadata": {
        "id": "6ymZlVGXSQwZ"
      },
      "source": [
        "titanic.head()\r\n",
        "display.maxrows=200\r\n",
        "# titanic.head(200)"
      ],
      "execution_count": 792,
      "outputs": []
    },
    {
      "cell_type": "markdown",
      "metadata": {
        "id": "8oqRe0T_cb2z"
      },
      "source": [
        "Check the dataset, and firstly look for Categorical Variables(either in num or string type) & Continuous Variables(obviously in num).\r\n",
        "If you've got Continuous or Linear Variables, then we can consider using seaborn to analyze the relationship between dependent Vs each independent feature using sns.pairplots. But, if you see the above data (Pclass,Sex,SibSp,Parch,Embarked and even Age are all of Categorical Varibale type) So, let's take peace with pairplots for now ;)"
      ]
    },
    {
      "cell_type": "markdown",
      "metadata": {
        "id": "Poz4Lkx2cuPb"
      },
      "source": [
        "But, see here dataset has null values."
      ]
    },
    {
      "cell_type": "code",
      "metadata": {
        "colab": {
          "base_uri": "https://localhost:8080/"
        },
        "id": "cTGBQkhGSQwb",
        "outputId": "b6d7a064-8be8-4bf1-e086-7c9815866595"
      },
      "source": [
        "import numpy as np\r\n",
        "# titanic.isnull().sum()\r\n",
        "# sns.heatmap(titanic.isnull(), yticklabels=False, cbar=False, cmap='viridis')\r\n",
        "titanic['age_null'] = np.where(titanic['Age'].isnull(),1,0)\r\n",
        "titanic['cabin_null'] = np.where(titanic['Cabin'].isnull(),1,0)\r\n",
        "titanic['age_null'].mean()\r\n",
        "titanic['cabin_null'].mean()"
      ],
      "execution_count": 793,
      "outputs": [
        {
          "output_type": "execute_result",
          "data": {
            "text/plain": [
              "0.7710437710437711"
            ]
          },
          "metadata": {
            "tags": []
          },
          "execution_count": 793
        }
      ]
    },
    {
      "cell_type": "code",
      "metadata": {
        "id": "nf8qchhRsF1X"
      },
      "source": [
        "# titanic=titanic.drop(['Cabin','cabin_null'], axis=1)\r\n",
        "# print(titanic.columns)\r\n",
        "# titanic['Fare'].std()"
      ],
      "execution_count": 794,
      "outputs": []
    },
    {
      "cell_type": "code",
      "metadata": {
        "colab": {
          "base_uri": "https://localhost:8080/",
          "height": 297
        },
        "id": "czuCFUI1u-vs",
        "outputId": "0547b5e3-26b2-4498-f28e-2f516c7aec63"
      },
      "source": [
        "# sns.histplot(x=titanic['Age'], y=titanic['Pclass'], cbar=True, palette='rainbow')"
      ],
      "execution_count": 694,
      "outputs": [
        {
          "output_type": "execute_result",
          "data": {
            "text/plain": [
              "<matplotlib.axes._subplots.AxesSubplot at 0x7f6bc915ea20>"
            ]
          },
          "metadata": {
            "tags": []
          },
          "execution_count": 694
        },
        {
          "output_type": "display_data",
          "data": {
            "image/png": "[encoded data removed]",
            "text/plain": [
              "<Figure size 432x288 with 2 Axes>"
            ]
          },
          "metadata": {
            "tags": [],
            "needs_background": "light"
          }
        }
      ]
    },
    {
      "cell_type": "markdown",
      "metadata": {
        "id": "yWV6vcT7duAj"
      },
      "source": [
        "So, Before starting to anaylze data, make sure you fill up those null values. And then, we can look into finding relationships as well as outliers in the data."
      ]
    },
    {
      "cell_type": "code",
      "metadata": {
        "colab": {
          "base_uri": "https://localhost:8080/",
          "height": 110
        },
        "id": "TySpFFAvSQwc",
        "outputId": "ec263e9c-baae-44cc-c992-1c36834ababf"
      },
      "source": [
        "# titanic[titanic['Embarked'].isnull()]"
      ],
      "execution_count": 620,
      "outputs": [
        {
          "output_type": "execute_result",
          "data": {
            "text/html": [
              "<div>\n",
              "<style scoped>\n",
              "    .dataframe tbody tr th:only-of-type {\n",
              "        vertical-align: middle;\n",
              "    }\n",
              "\n",
              "    .dataframe tbody tr th {\n",
              "        vertical-align: top;\n",
              "    }\n",
              "\n",
              "    .dataframe thead th {\n",
              "        text-align: right;\n",
              "    }\n",
              "</style>\n",
              "<table border=\"1\" class=\"dataframe\">\n",
              "  <thead>\n",
              "    <tr style=\"text-align: right;\">\n",
              "      <th></th>\n",
              "      <th>PassengerId</th>\n",
              "      <th>Survived</th>\n",
              "      <th>Pclass</th>\n",
              "      <th>Name</th>\n",
              "      <th>Sex</th>\n",
              "      <th>Age</th>\n",
              "      <th>SibSp</th>\n",
              "      <th>Parch</th>\n",
              "      <th>Ticket</th>\n",
              "      <th>Fare</th>\n",
              "      <th>Cabin</th>\n",
              "      <th>Embarked</th>\n",
              "    </tr>\n",
              "  </thead>\n",
              "  <tbody>\n",
              "    <tr>\n",
              "      <th>61</th>\n",
              "      <td>62</td>\n",
              "      <td>1</td>\n",
              "      <td>1</td>\n",
              "      <td>Icard, Miss. Amelie</td>\n",
              "      <td>female</td>\n",
              "      <td>38.0</td>\n",
              "      <td>0</td>\n",
              "      <td>0</td>\n",
              "      <td>113572</td>\n",
              "      <td>80.0</td>\n",
              "      <td>B28</td>\n",
              "      <td>NaN</td>\n",
              "    </tr>\n",
              "    <tr>\n",
              "      <th>829</th>\n",
              "      <td>830</td>\n",
              "      <td>1</td>\n",
              "      <td>1</td>\n",
              "      <td>Stone, Mrs. George Nelson (Martha Evelyn)</td>\n",
              "      <td>female</td>\n",
              "      <td>62.0</td>\n",
              "      <td>0</td>\n",
              "      <td>0</td>\n",
              "      <td>113572</td>\n",
              "      <td>80.0</td>\n",
              "      <td>B28</td>\n",
              "      <td>NaN</td>\n",
              "    </tr>\n",
              "  </tbody>\n",
              "</table>\n",
              "</div>"
            ],
            "text/plain": [
              "     PassengerId  Survived  Pclass  ...  Fare Cabin  Embarked\n",
              "61            62         1       1  ...  80.0   B28       NaN\n",
              "829          830         1       1  ...  80.0   B28       NaN\n",
              "\n",
              "[2 rows x 12 columns]"
            ]
          },
          "metadata": {
            "tags": []
          },
          "execution_count": 620
        }
      ]
    },
    {
      "cell_type": "markdown",
      "metadata": {
        "id": "F6a-IxwtSQwd"
      },
      "source": [
        "Now, we need to understand how missing values occur. They are of three types:\n",
        "1) MCAR (Missing completely at Random) --> Meaning, there is no any back reason or motive behind the missing data. \n",
        "Eg: Surveyer while collecting information, could've forgotten to take or note down the missing data\n",
        "2) MAR (Missing At Random) --> there is definitely some logic or motive, behind the missing data.\n",
        "Eg: Usually, people don't like to disclose about their mental health unlike their physical health. So, inaccurate or missing data will be collected.\n",
        "3) MNAR (Missing Not at Random) --> To be Updated Soon :)"
      ]
    },
    {
      "cell_type": "code",
      "metadata": {
        "colab": {
          "base_uri": "https://localhost:8080/"
        },
        "id": "o4oTL5xKtRcC",
        "outputId": "463b1f3e-7453-4c9e-dd43-5ac075d65274"
      },
      "source": [
        "titanic['sex_male'] = np.where(titanic['Sex']=='male',1,0)\r\n",
        "titanic['sex_female'] = np.where(titanic['Sex']=='female',1,0)\r\n",
        "print(titanic.groupby(['Survived'])['sex_female'].sum())\r\n",
        "print(titanic.groupby(['Survived'])['sex_male'].sum())"
      ],
      "execution_count": 668,
      "outputs": [
        {
          "output_type": "stream",
          "text": [
            "Survived\n",
            "0     81\n",
            "1    233\n",
            "Name: sex_female, dtype: int64\n",
            "Survived\n",
            "0    468\n",
            "1    109\n",
            "Name: sex_male, dtype: int64\n"
          ],
          "name": "stdout"
        }
      ]
    },
    {
      "cell_type": "markdown",
      "metadata": {
        "id": "WtwlrG_bggOC"
      },
      "source": [
        "Coming back to Current Dataset, we have missing values on Age and Cabin Features."
      ]
    },
    {
      "cell_type": "code",
      "metadata": {
        "id": "cwMhKyzohdtw",
        "colab": {
          "base_uri": "https://localhost:8080/"
        },
        "outputId": "a2d1d291-8938-4ba2-f6b2-9fce4ccf13a1"
      },
      "source": [
        "import numpy as np\r\n",
        "titanic['Age_null'] = np.where(titanic['Age'].isnull(),1,0)\r\n",
        "titanic['Cabin_null'] = np.where(titanic['Cabin'].isnull(),1,0)\r\n",
        "print(\"Null % in Age --> {}\".format(titanic['Age_null'].mean()*100))\r\n",
        "print(\"Null % in Cabin --> {}\".format(titanic['Cabin_null'].mean()*100))"
      ],
      "execution_count": 622,
      "outputs": [
        {
          "output_type": "stream",
          "text": [
            "Null % in Age --> 19.865319865319865\n",
            "Null % in Cabin --> 77.10437710437711\n"
          ],
          "name": "stdout"
        }
      ]
    },
    {
      "cell_type": "markdown",
      "metadata": {
        "id": "WS3gH9yKiGRn"
      },
      "source": [
        "Now, \"Cabin\" has whopping 77% Null Values. This is serious and beyond my imagination, this cannot be considered for imputation. Hence, need to drop \"Cabin\" Feature and then, perform imputation for \"Age\".\r\n",
        "\r\n",
        "But, before that remember we have to determine the reason behind the missing values right ;) Let's do that"
      ]
    },
    {
      "cell_type": "code",
      "metadata": {
        "colab": {
          "base_uri": "https://localhost:8080/"
        },
        "id": "OCar3Fp7SQwf",
        "outputId": "353656fc-dabe-4836-c3b8-149e269dfdb3"
      },
      "source": [
        "titanic['Cabin_null'].value_counts()"
      ],
      "execution_count": 623,
      "outputs": [
        {
          "output_type": "execute_result",
          "data": {
            "text/plain": [
              "1    687\n",
              "0    204\n",
              "Name: Cabin_null, dtype: int64"
            ]
          },
          "metadata": {
            "tags": []
          },
          "execution_count": 623
        }
      ]
    },
    {
      "cell_type": "code",
      "metadata": {
        "colab": {
          "base_uri": "https://localhost:8080/"
        },
        "id": "nJWq9HXySQwg",
        "outputId": "b5617571-a93a-45f1-8086-0642f5f964c5"
      },
      "source": [
        "titanic.columns"
      ],
      "execution_count": 624,
      "outputs": [
        {
          "output_type": "execute_result",
          "data": {
            "text/plain": [
              "Index(['PassengerId', 'Survived', 'Pclass', 'Name', 'Sex', 'Age', 'SibSp',\n",
              "       'Parch', 'Ticket', 'Fare', 'Cabin', 'Embarked', 'Age_null',\n",
              "       'Cabin_null'],\n",
              "      dtype='object')"
            ]
          },
          "metadata": {
            "tags": []
          },
          "execution_count": 624
        }
      ]
    },
    {
      "cell_type": "code",
      "metadata": {
        "colab": {
          "base_uri": "https://localhost:8080/"
        },
        "id": "iyVRXEDUWVQC",
        "outputId": "2e92044c-6786-4513-8664-a79a606eb18b"
      },
      "source": [
        "new_df = pd.DataFrame({'A':[1,0,1,0,1],'B':[1,0,1,0,1]})\r\n",
        "new_df.groupby(['B'])['A'].sum()"
      ],
      "execution_count": 625,
      "outputs": [
        {
          "output_type": "execute_result",
          "data": {
            "text/plain": [
              "B\n",
              "0    0\n",
              "1    3\n",
              "Name: A, dtype: int64"
            ]
          },
          "metadata": {
            "tags": []
          },
          "execution_count": 625
        }
      ]
    },
    {
      "cell_type": "markdown",
      "metadata": {
        "id": "5K5b8TTai6Vt"
      },
      "source": [
        "The below output suggest that, the records of missing data are mostly of people who haven't survived (481) and little bit less for Survived(206)"
      ]
    },
    {
      "cell_type": "code",
      "metadata": {
        "colab": {
          "base_uri": "https://localhost:8080/"
        },
        "id": "GGJPcFnzSQwg",
        "outputId": "2be55c12-b436-4ff8-8bab-828287d83143"
      },
      "source": [
        "titanic.groupby(['Survived'])['Cabin_null'].sum()"
      ],
      "execution_count": 626,
      "outputs": [
        {
          "output_type": "execute_result",
          "data": {
            "text/plain": [
              "Survived\n",
              "0    481\n",
              "1    206\n",
              "Name: Cabin_null, dtype: int64"
            ]
          },
          "metadata": {
            "tags": []
          },
          "execution_count": 626
        }
      ]
    },
    {
      "cell_type": "markdown",
      "metadata": {
        "id": "eM1t7Vg1j1gQ"
      },
      "source": [
        "This hints us to the fact, that this is MNAR and has a motive behind it. Now, just keep this in mind before doing any imputation.\r\n",
        "Go ahead and drop the Cabin column now."
      ]
    },
    {
      "cell_type": "code",
      "metadata": {
        "id": "ZFTLZOhKjYry",
        "colab": {
          "base_uri": "https://localhost:8080/"
        },
        "outputId": "450e82ec-62a8-4f35-dee6-824abdb1ea62"
      },
      "source": [
        "titanic = titanic.drop(['Cabin','Cabin_null'], axis=1)\r\n",
        "titanic.groupby(['Survived'])['Age_null'].sum()"
      ],
      "execution_count": 627,
      "outputs": [
        {
          "output_type": "execute_result",
          "data": {
            "text/plain": [
              "Survived\n",
              "0    125\n",
              "1     52\n",
              "Name: Age_null, dtype: int64"
            ]
          },
          "metadata": {
            "tags": []
          },
          "execution_count": 627
        }
      ]
    },
    {
      "cell_type": "markdown",
      "metadata": {
        "id": "o36Rq8rESQwh"
      },
      "source": [
        "#### Missing At Random(MAR)"
      ]
    },
    {
      "cell_type": "markdown",
      "metadata": {
        "id": "iSsbWJPpSQwj"
      },
      "source": [
        "#### Mean/ MEdian /Mode imputation\n",
        "When should we apply?\n",
        "Mean/median imputation has the assumption that the data are missing completely at random(MCAR). We solve this by replacing the NAN with the most frequent occurance of the variables"
      ]
    },
    {
      "cell_type": "code",
      "metadata": {
        "colab": {
          "base_uri": "https://localhost:8080/"
        },
        "id": "Ar3tzAjT_LOX",
        "outputId": "ff417201-fadc-459f-a2cf-ab328dab86ff"
      },
      "source": [
        "pclass1_age = titanic.loc[~(titanic['Age'].isnull()) & (titanic['Pclass']==1), ['Age']]\r\n",
        "pclass2_age = titanic.loc[~(titanic['Age'].isnull()) & (titanic['Pclass']==2), ['Age']]\r\n",
        "pclass3_age = titanic.loc[~(titanic['Age'].isnull()) & (titanic['Pclass']==3), ['Age']]\r\n",
        "print(pclass1_age['Age'].median())\r\n",
        "print(pclass2_age['Age'].median())\r\n",
        "print(pclass3_age['Age'].median())"
      ],
      "execution_count": 809,
      "outputs": [
        {
          "output_type": "stream",
          "text": [
            "37.0\n",
            "29.0\n",
            "24.0\n"
          ],
          "name": "stdout"
        }
      ]
    },
    {
      "cell_type": "code",
      "metadata": {
        "id": "ozlQdVJv_bKa"
      },
      "source": [
        "import pandas as pd\r\n",
        "import pdb\r\n",
        "def impute_age_val(cols):\r\n",
        "  age = cols[0]\r\n",
        "  pclass = cols[1]\r\n",
        "  if pd.isnull(age):    \r\n",
        "    if pclass == 1:\r\n",
        "      return 37.0\r\n",
        "    elif pclass == 2:\r\n",
        "      return 29.0\r\n",
        "    elif pclass == 3:\r\n",
        "      return 24.0\r\n",
        "  else:\r\n",
        "    return age"
      ],
      "execution_count": 810,
      "outputs": []
    },
    {
      "cell_type": "code",
      "metadata": {
        "id": "_MiD-Oq4_bix"
      },
      "source": [
        "titanic['Age'] = titanic[['Age','Pclass']].apply(impute_age_val, axis=1)\r\n",
        "titanic = titanic.drop(['Cabin','Embarked','PassengerId','Name','Ticket','Fare','age_null','cabin_null'],axis=1)\r\n"
      ],
      "execution_count": null,
      "outputs": []
    },
    {
      "cell_type": "code",
      "metadata": {
        "colab": {
          "base_uri": "https://localhost:8080/",
          "height": 266
        },
        "id": "mQajW-uK_cAC",
        "outputId": "f48a63ac-a722-469c-a730-73b17b8dd7e1"
      },
      "source": [
        "titanic['Age'] = titanic['Age'].astype('int')\r\n",
        "titanic.dtypes\r\n",
        "sns.heatmap(titanic.isnull(), yticklabels=False, cbar=False, cmap='viridis')\r\n",
        "titanic['Surv_desc'] = np.where(titanic['Survived']==1, 'Alive','Dead')"
      ],
      "execution_count": 812,
      "outputs": [
        {
          "output_type": "display_data",
          "data": {
            "image/png": "[encoded data removed]",
            "text/plain": [
              "<Figure size 432x288 with 1 Axes>"
            ]
          },
          "metadata": {
            "tags": [],
            "needs_background": "light"
          }
        }
      ]
    },
    {
      "cell_type": "code",
      "metadata": {
        "id": "AEJhLRihVMsv"
      },
      "source": [
        "def eval_feature_with_target(feature_col):\r\n",
        "  cats = titanic[feature_col].value_counts().index.values    \r\n",
        "  alive = list()\r\n",
        "  dead = list()\r\n",
        "  feature = list()\r\n",
        "  age_sex_count = dict()  \r\n",
        "  for cat in cats:\r\n",
        "    titanic[feature_col+'_eval'] = np.where(titanic[feature_col]==cat,1,0)\r\n",
        "    dump_df = pd.DataFrame()\r\n",
        "    dump_df['Sex'] = titanic.loc[titanic['Age']==cat, 'Sex']\r\n",
        "    # pdb.set_trace()\r\n",
        "    male_count = dump_df['Sex'].value_counts().get('male')\r\n",
        "    female_count = dump_df['Sex'].value_counts().get('female')\r\n",
        "    age_sex_count[str(cat)] = (male_count, female_count)\r\n",
        "    # print(\"Feature : {}  Value : {}\\n Dead vs Survival Rate\".format(feature_col,cat))\r\n",
        "    # print(titanic.groupby(['Surv_desc'])[feature_col+'_eval'].sum())\r\n",
        "    values = titanic.groupby(['Surv_desc'])[feature_col+'_eval'].sum().values\r\n",
        "    dead.append(values[0])\r\n",
        "    alive.append(values[1])\r\n",
        "    feature.append(cat)    \r\n",
        "  return alive,dead,feature,age_sex_count"
      ],
      "execution_count": 841,
      "outputs": []
    },
    {
      "cell_type": "code",
      "metadata": {
        "id": "H-kMwFUVB6aG"
      },
      "source": [
        "alive, dead, age, age_sex_count = eval_feature_with_target('Age')\r\n",
        "male = [age_sex_count[key][0] for key in age_sex_count.keys()]\r\n",
        "female = [age_sex_count[key][1] for key in age_sex_count.keys()]"
      ],
      "execution_count": 846,
      "outputs": []
    },
    {
      "cell_type": "code",
      "metadata": {
        "colab": {
          "base_uri": "https://localhost:8080/",
          "height": 283
        },
        "id": "LMsINgm7_ujv",
        "outputId": "7e00a047-7264-4496-8bb4-a4db85b82a58"
      },
      "source": [
        "# alive, dead, age = eval_feature_with_target('Age')\r\n",
        "sns.lineplot(x=age, y=alive)"
      ],
      "execution_count": 855,
      "outputs": [
        {
          "output_type": "execute_result",
          "data": {
            "text/plain": [
              "<matplotlib.axes._subplots.AxesSubplot at 0x7f6bc97d1748>"
            ]
          },
          "metadata": {
            "tags": []
          },
          "execution_count": 855
        },
        {
          "output_type": "display_data",
          "data": {
            "image/png": "[encoded data removed]",
            "text/plain": [
              "<Figure size 432x288 with 1 Axes>"
            ]
          },
          "metadata": {
            "tags": [],
            "needs_background": "light"
          }
        }
      ]
    },
    {
      "cell_type": "code",
      "metadata": {
        "colab": {
          "base_uri": "https://localhost:8080/",
          "height": 391
        },
        "id": "uXv2s-sTHc0G",
        "outputId": "5f99f07d-d7fa-430e-c60b-66086e096947"
      },
      "source": [
        "tit_fil = titanic[['Survived','Age','Sex']]\r\n",
        "tit_fil.columns\r\n",
        "sns.pairplot(tit_fil, hue='Sex')"
      ],
      "execution_count": 861,
      "outputs": [
        {
          "output_type": "execute_result",
          "data": {
            "text/plain": [
              "<seaborn.axisgrid.PairGrid at 0x7f6bc91313c8>"
            ]
          },
          "metadata": {
            "tags": []
          },
          "execution_count": 861
        },
        {
          "output_type": "display_data",
          "data": {
            "image/png": "[encoded data removed]",
            "text/plain": [
              "<Figure size 430.5x360 with 6 Axes>"
            ]
          },
          "metadata": {
            "tags": [],
            "needs_background": "light"
          }
        }
      ]
    },
    {
      "cell_type": "code",
      "metadata": {
        "id": "FRck4WugWSsO"
      },
      "source": [
        "alive,dead,age = eval_feature_with_target('Age_median')\r\n",
        "age_eval_df = pd.DataFrame({'Age':age, 'Alive':alive, 'Dead':dead})\r\n",
        "alive,dead,parch = eval_feature_with_target('Parch')\r\n",
        "parch_eval_df = pd.DataFrame({'Parch':parch, 'Alive':alive, 'Dead':dead})\r\n",
        "alive,dead,pclass = eval_feature_with_target('Pclass')\r\n",
        "pclass_eval_df = pd.DataFrame({'Parch':pclass, 'Alive':alive, 'Dead':dead})"
      ],
      "execution_count": 643,
      "outputs": []
    },
    {
      "cell_type": "code",
      "metadata": {
        "colab": {
          "base_uri": "https://localhost:8080/",
          "height": 202
        },
        "id": "jjQzCOlebgOY",
        "outputId": "1ce96095-242f-4f3e-c59f-783e55f62971"
      },
      "source": [
        "parch_eval_df.head()"
      ],
      "execution_count": 647,
      "outputs": [
        {
          "output_type": "execute_result",
          "data": {
            "text/html": [
              "<div>\n",
              "<style scoped>\n",
              "    .dataframe tbody tr th:only-of-type {\n",
              "        vertical-align: middle;\n",
              "    }\n",
              "\n",
              "    .dataframe tbody tr th {\n",
              "        vertical-align: top;\n",
              "    }\n",
              "\n",
              "    .dataframe thead th {\n",
              "        text-align: right;\n",
              "    }\n",
              "</style>\n",
              "<table border=\"1\" class=\"dataframe\">\n",
              "  <thead>\n",
              "    <tr style=\"text-align: right;\">\n",
              "      <th></th>\n",
              "      <th>Parch</th>\n",
              "      <th>Alive</th>\n",
              "      <th>Dead</th>\n",
              "    </tr>\n",
              "  </thead>\n",
              "  <tbody>\n",
              "    <tr>\n",
              "      <th>0</th>\n",
              "      <td>0</td>\n",
              "      <td>445</td>\n",
              "      <td>233</td>\n",
              "    </tr>\n",
              "    <tr>\n",
              "      <th>1</th>\n",
              "      <td>1</td>\n",
              "      <td>53</td>\n",
              "      <td>65</td>\n",
              "    </tr>\n",
              "    <tr>\n",
              "      <th>2</th>\n",
              "      <td>2</td>\n",
              "      <td>40</td>\n",
              "      <td>40</td>\n",
              "    </tr>\n",
              "    <tr>\n",
              "      <th>3</th>\n",
              "      <td>5</td>\n",
              "      <td>4</td>\n",
              "      <td>1</td>\n",
              "    </tr>\n",
              "    <tr>\n",
              "      <th>4</th>\n",
              "      <td>3</td>\n",
              "      <td>2</td>\n",
              "      <td>3</td>\n",
              "    </tr>\n",
              "  </tbody>\n",
              "</table>\n",
              "</div>"
            ],
            "text/plain": [
              "   Parch  Alive  Dead\n",
              "0      0    445   233\n",
              "1      1     53    65\n",
              "2      2     40    40\n",
              "3      5      4     1\n",
              "4      3      2     3"
            ]
          },
          "metadata": {
            "tags": []
          },
          "execution_count": 647
        }
      ]
    },
    {
      "cell_type": "code",
      "metadata": {
        "id": "ZZETXz81qpra"
      },
      "source": [
        "sns.jointplot(x='Age', y='Alive', data=age_eval_df, kind='reg')\r\n",
        "sns.jointplot(x='Age', y='Dead', data=age_eval_df, kind='reg')"
      ],
      "execution_count": null,
      "outputs": []
    },
    {
      "cell_type": "code",
      "metadata": {
        "colab": {
          "base_uri": "https://localhost:8080/",
          "height": 459
        },
        "id": "ykPQIpEmj_3Q",
        "outputId": "1b2ed31f-0523-478c-9454-023a85dff3bc"
      },
      "source": [
        "sns.jointplot(x='Parch', y='Alive', data=parch_eval_df, kind='reg')\r\n",
        "sns.jointplot(x='Parch', y='Dead', data=parch_eval_df, kind='reg')"
      ],
      "execution_count": 650,
      "outputs": [
        {
          "output_type": "execute_result",
          "data": {
            "text/plain": [
              "<seaborn.axisgrid.JointGrid at 0x7f6bc870e208>"
            ]
          },
          "metadata": {
            "tags": []
          },
          "execution_count": 650
        },
        {
          "output_type": "display_data",
          "data": {
            "image/png": "[encoded data removed]",
            "text/plain": [
              "<Figure size 432x432 with 3 Axes>"
            ]
          },
          "metadata": {
            "tags": [],
            "needs_background": "light"
          }
        }
      ]
    },
    {
      "cell_type": "code",
      "metadata": {
        "colab": {
          "base_uri": "https://localhost:8080/",
          "height": 459
        },
        "id": "mTFnc2UlpH-p",
        "outputId": "b8c33976-386b-4088-84ef-f5dabad4ad3f"
      },
      "source": [
        "sns.jointplot(x='Pclass', y='Alive', data=parch_eval_df, kind='reg')\r\n",
        "sns.jointplot(x='Pclass', y='Dead', data=parch_eval_df, kind='reg')"
      ],
      "execution_count": 651,
      "outputs": [
        {
          "output_type": "execute_result",
          "data": {
            "text/plain": [
              "<seaborn.axisgrid.JointGrid at 0x7f6bc85d2d30>"
            ]
          },
          "metadata": {
            "tags": []
          },
          "execution_count": 651
        },
        {
          "output_type": "display_data",
          "data": {
            "image/png": "[encoded data removed]",
            "text/plain": [
              "<Figure size 432x432 with 3 Axes>"
            ]
          },
          "metadata": {
            "tags": [],
            "needs_background": "light"
          }
        }
      ]
    },
    {
      "cell_type": "code",
      "metadata": {
        "colab": {
          "base_uri": "https://localhost:8080/",
          "height": 567
        },
        "id": "aDByH3a9b8fx",
        "outputId": "ca457f82-f4e3-444b-e7f3-fc1c6fface98"
      },
      "source": [
        "sns.pairplot(age_eval_df)"
      ],
      "execution_count": 568,
      "outputs": [
        {
          "output_type": "execute_result",
          "data": {
            "text/plain": [
              "<seaborn.axisgrid.PairGrid at 0x7f6bcc201278>"
            ]
          },
          "metadata": {
            "tags": []
          },
          "execution_count": 568
        },
        {
          "output_type": "display_data",
          "data": {
            "image/png": "[encoded data removed]",
            "text/plain": [
              "<Figure size 540x540 with 12 Axes>"
            ]
          },
          "metadata": {
            "tags": [],
            "needs_background": "light"
          }
        }
      ]
    },
    {
      "cell_type": "code",
      "metadata": {
        "colab": {
          "base_uri": "https://localhost:8080/",
          "height": 297
        },
        "id": "WM8SmYXNfc7S",
        "outputId": "68c6980d-dc18-4ac1-ecd9-f0ee141ba978"
      },
      "source": [
        "sns.histplot(x=titanic['Sex'], y=titanic['Survived'], cbar=True, kde=True)"
      ],
      "execution_count": 613,
      "outputs": [
        {
          "output_type": "execute_result",
          "data": {
            "text/plain": [
              "<matplotlib.axes._subplots.AxesSubplot at 0x7f6bc8dee470>"
            ]
          },
          "metadata": {
            "tags": []
          },
          "execution_count": 613
        },
        {
          "output_type": "display_data",
          "data": {
            "image/png": "[encoded data removed]",
            "text/plain": [
              "<Figure size 432x288 with 2 Axes>"
            ]
          },
          "metadata": {
            "tags": [],
            "needs_background": "light"
          }
        }
      ]
    },
    {
      "cell_type": "code",
      "metadata": {
        "id": "dpkTNwbwcmh2"
      },
      "source": [
        ""
      ],
      "execution_count": null,
      "outputs": []
    },
    {
      "cell_type": "code",
      "metadata": {
        "colab": {
          "base_uri": "https://localhost:8080/"
        },
        "id": "QogTor7bSQwl",
        "outputId": "827bb00a-0f26-4266-f994-5b0a3950bfc4"
      },
      "source": [
        "print(titanic['Age'].std())\n",
        "print(titanic['Age_median'].std())"
      ],
      "execution_count": 351,
      "outputs": [
        {
          "output_type": "stream",
          "text": [
            "14.526497332334044\n",
            "13.019696550973194\n"
          ],
          "name": "stdout"
        }
      ]
    },
    {
      "cell_type": "code",
      "metadata": {
        "id": "Cd4dMDyPaoRv",
        "colab": {
          "base_uri": "https://localhost:8080/"
        },
        "outputId": "72dedbe1-79bd-4b24-b8e5-2c4fbd4a8ae2"
      },
      "source": [
        "titanic.shape"
      ],
      "execution_count": 352,
      "outputs": [
        {
          "output_type": "execute_result",
          "data": {
            "text/plain": [
              "(891, 13)"
            ]
          },
          "metadata": {
            "tags": []
          },
          "execution_count": 352
        }
      ]
    },
    {
      "cell_type": "code",
      "metadata": {
        "id": "Gp2-e0ZBSQwm"
      },
      "source": [
        "import matplotlib.pyplot as plt\n",
        "%matplotlib inline"
      ],
      "execution_count": 353,
      "outputs": []
    },
    {
      "cell_type": "code",
      "metadata": {
        "colab": {
          "base_uri": "https://localhost:8080/",
          "height": 287
        },
        "id": "4JjV05-USQwm",
        "outputId": "56b4888a-187b-4bdf-ac69-94de87a41d6e"
      },
      "source": [
        "fig = plt.figure()\n",
        "ax = fig.add_subplot(111)\n",
        "titanic['Age'].plot(kind='kde', ax=ax)\n",
        "titanic.Age_median.plot(kind='kde', ax=ax, color='red')\n",
        "lines, labels = ax.get_legend_handles_labels()\n",
        "ax.legend(lines, labels, loc='best')"
      ],
      "execution_count": 354,
      "outputs": [
        {
          "output_type": "execute_result",
          "data": {
            "text/plain": [
              "<matplotlib.legend.Legend at 0x7f6bce42af28>"
            ]
          },
          "metadata": {
            "tags": []
          },
          "execution_count": 354
        },
        {
          "output_type": "display_data",
          "data": {
            "image/png": "[encoded data removed]",
            "text/plain": [
              "<Figure size 432x288 with 1 Axes>"
            ]
          },
          "metadata": {
            "tags": [],
            "needs_background": "light"
          }
        }
      ]
    },
    {
      "cell_type": "markdown",
      "metadata": {
        "id": "FIN19ltjSQwn"
      },
      "source": [
        "### Advantages And Disadvantages of Mean/Median Imputation\n",
        "\n",
        "#### Advantages\n",
        "1. Easy to implement(Robust to outliers)\n",
        "2. Faster way to obtain the complete dataset\n",
        "#### Disadvantages\n",
        "1. Change or Distortion in the original variance\n",
        "2. Impacts Correlation\n"
      ]
    },
    {
      "cell_type": "code",
      "metadata": {
        "id": "6YW-5LeISQwn"
      },
      "source": [
        "from sklearn.model_selection import train_test_split\r\n",
        "from sklearn.linear_model import LogisticRegression\r\n",
        "from sklearn.metrics import confusion_matrix, accuracy_score"
      ],
      "execution_count": 355,
      "outputs": []
    },
    {
      "cell_type": "code",
      "metadata": {
        "colab": {
          "base_uri": "https://localhost:8080/"
        },
        "id": "Cbyoxe-HRoMd",
        "outputId": "6f979b9d-51b7-4c04-afe6-d623bc5e674c"
      },
      "source": [
        "titanic = titanic.drop(['PassengerId','Name','Ticket','Embarked','Age','Age_null','Age_median','Sex'],axis=1)\r\n",
        "titanic.columns"
      ],
      "execution_count": 356,
      "outputs": [
        {
          "output_type": "execute_result",
          "data": {
            "text/plain": [
              "Index(['Survived', 'Pclass', 'SibSp', 'Parch', 'Fare'], dtype='object')"
            ]
          },
          "metadata": {
            "tags": []
          },
          "execution_count": 356
        }
      ]
    },
    {
      "cell_type": "code",
      "metadata": {
        "id": "wd74sdDrTh0m"
      },
      "source": [
        "# titanic['Sex'] = np.where(titanic['Sex']=='male',1,0)"
      ],
      "execution_count": 357,
      "outputs": []
    },
    {
      "cell_type": "code",
      "metadata": {
        "id": "GHIXoiKQS0IU"
      },
      "source": [
        "features = titanic.drop(['Survived'],axis=1)\r\n",
        "target = titanic['Survived']"
      ],
      "execution_count": 358,
      "outputs": []
    },
    {
      "cell_type": "code",
      "metadata": {
        "id": "cdlpL3ByTAr-"
      },
      "source": [
        ""
      ],
      "execution_count": 358,
      "outputs": []
    },
    {
      "cell_type": "code",
      "metadata": {
        "id": "XeWwswffRdaw"
      },
      "source": [
        "X_train,X_test,y_train,y_test = train_test_split(features, target, test_size=0.30, random_state=101)"
      ],
      "execution_count": 359,
      "outputs": []
    },
    {
      "cell_type": "code",
      "metadata": {
        "id": "RRtXWt6mTRee"
      },
      "source": [
        "model = LogisticRegression()"
      ],
      "execution_count": 360,
      "outputs": []
    },
    {
      "cell_type": "code",
      "metadata": {
        "id": "4h_KtcOlTUcC"
      },
      "source": [
        "model.fit(X_train,y_train)\r\n",
        "predictions = model.predict(X_test)"
      ],
      "execution_count": 361,
      "outputs": []
    },
    {
      "cell_type": "code",
      "metadata": {
        "colab": {
          "base_uri": "https://localhost:8080/"
        },
        "id": "Vq7bXEY_TcV6",
        "outputId": "7173e9d1-627e-425f-c9eb-cc4c76177de6"
      },
      "source": [
        "confusion_matrix(y_test, predictions)"
      ],
      "execution_count": 362,
      "outputs": [
        {
          "output_type": "execute_result",
          "data": {
            "text/plain": [
              "array([[130,  24],\n",
              "       [ 65,  49]])"
            ]
          },
          "metadata": {
            "tags": []
          },
          "execution_count": 362
        }
      ]
    },
    {
      "cell_type": "code",
      "metadata": {
        "colab": {
          "base_uri": "https://localhost:8080/"
        },
        "id": "5EqRCWVkUAXr",
        "outputId": "5dfca9a1-5076-4e47-a04a-801dceb40697"
      },
      "source": [
        "accuracy_score(y_test, predictions)"
      ],
      "execution_count": 363,
      "outputs": [
        {
          "output_type": "execute_result",
          "data": {
            "text/plain": [
              "0.667910447761194"
            ]
          },
          "metadata": {
            "tags": []
          },
          "execution_count": 363
        }
      ]
    }
  ]
}