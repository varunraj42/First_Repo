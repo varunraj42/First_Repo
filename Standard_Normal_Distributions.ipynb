{
  "nbformat": 4,
  "nbformat_minor": 0,
  "metadata": {
    "colab": {
      "name": "Untitled7.ipynb",
      "provenance": [],
      "authorship_tag": "ABX9TyO0E8xpW5kE6XfzqKYjcwP3",
      "include_colab_link": true
    },
    "kernelspec": {
      "name": "python3",
      "display_name": "Python 3"
    }
  },
  "cells": [
    {
      "cell_type": "markdown",
      "metadata": {
        "id": "view-in-github",
        "colab_type": "text"
      },
      "source": [
        "<a href=\"https://colab.research.google.com/github/varunraj42/First_Repo/blob/fresh_branch/Standard_Normal_Distributions.ipynb\" target=\"_parent\"><img src=\"https://colab.research.google.com/assets/colab-badge.svg\" alt=\"Open In Colab\"/></a>"
      ]
    },
    {
      "cell_type": "code",
      "metadata": {
        "id": "uVU7TlwgMi4e"
      },
      "source": [
        "import numpy as np\r\n",
        "import matplotlib.pyplot as plt\r\n",
        "from scipy.stats import norm"
      ],
      "execution_count": 47,
      "outputs": []
    },
    {
      "cell_type": "markdown",
      "metadata": {
        "id": "C1xq3IWXTlfP"
      },
      "source": [
        "# Standard Distribution"
      ]
    },
    {
      "cell_type": "code",
      "metadata": {
        "colab": {
          "base_uri": "https://localhost:8080/",
          "height": 279
        },
        "id": "zmrHy0rnMupd",
        "outputId": "4263845b-d29c-4680-9530-74778ff74f8f"
      },
      "source": [
        "#Standard Normal Distribution will always have mean of 0 and std of 1\r\n",
        "mean = 0\r\n",
        "std = 1\r\n",
        "domain = np.linspace(-2,2,1000)\r\n",
        "plt.plot(domain, norm.pdf(domain,mean,std))\r\n",
        "plt.ylabel(\"Density\")\r\n",
        "plt.xlabel(\"Data\")\r\n",
        "plt.show()"
      ],
      "execution_count": 60,
      "outputs": [
        {
          "output_type": "display_data",
          "data": {
            "image/png": "[encoded data removed]",
            "text/plain": [
              "<Figure size 432x288 with 1 Axes>"
            ]
          },
          "metadata": {
            "tags": [],
            "needs_background": "light"
          }
        }
      ]
    },
    {
      "cell_type": "code",
      "metadata": {
        "colab": {
          "base_uri": "https://localhost:8080/"
        },
        "id": "aiAG3s5uNEE0",
        "outputId": "83a2b0c7-252b-4347-bf7d-29d48624a29e"
      },
      "source": [
        "#Area Covered in First Standard Deviation\r\n",
        "first = 1\r\n",
        "norm.cdf(first,0,1) - norm.cdf(-first,0,1)"
      ],
      "execution_count": 44,
      "outputs": [
        {
          "output_type": "execute_result",
          "data": {
            "text/plain": [
              "0.6826894921370859"
            ]
          },
          "metadata": {
            "tags": []
          },
          "execution_count": 44
        }
      ]
    },
    {
      "cell_type": "code",
      "metadata": {
        "colab": {
          "base_uri": "https://localhost:8080/"
        },
        "id": "X85FIidOTMU_",
        "outputId": "8778b01b-b82c-4d65-9ded-857179888d06"
      },
      "source": [
        "# Area Covered in First Standard Deviation\r\n",
        "second = 2\r\n",
        "norm.cdf(second,0,1) - norm.cdf(-second,0,1)"
      ],
      "execution_count": 45,
      "outputs": [
        {
          "output_type": "execute_result",
          "data": {
            "text/plain": [
              "0.9544997361036416"
            ]
          },
          "metadata": {
            "tags": []
          },
          "execution_count": 45
        }
      ]
    },
    {
      "cell_type": "code",
      "metadata": {
        "colab": {
          "base_uri": "https://localhost:8080/"
        },
        "cellView": "code",
        "id": "b0k6zT2ITOSb",
        "outputId": "72e19c9d-0f65-4f9e-ee80-e4e3b75bbfa2"
      },
      "source": [
        "#@title Default title text\n",
        "#Area Covered in First Standard Deviation\n",
        "third = 3\n",
        "norm.cdf(third,0,1) - norm.cdf(-third,0,1)"
      ],
      "execution_count": 49,
      "outputs": [
        {
          "output_type": "execute_result",
          "data": {
            "text/plain": [
              "0.9973002039367398"
            ]
          },
          "metadata": {
            "tags": []
          },
          "execution_count": 49
        }
      ]
    },
    {
      "cell_type": "markdown",
      "metadata": {
        "id": "D6xZELkMTwQ6"
      },
      "source": [
        "# Log Normal Distribution"
      ]
    },
    {
      "cell_type": "code",
      "metadata": {
        "id": "8DuH4nTbO_pa"
      },
      "source": [
        "from scipy.stats import lognorm"
      ],
      "execution_count": 51,
      "outputs": []
    },
    {
      "cell_type": "code",
      "metadata": {
        "id": "cAN_aeOwVmqR"
      },
      "source": [
        "a, b = 4.32, 3.18\r\n",
        "rv = lognorm(a, b)"
      ],
      "execution_count": null,
      "outputs": []
    },
    {
      "cell_type": "code",
      "metadata": {
        "colab": {
          "base_uri": "https://localhost:8080/",
          "height": 279
        },
        "id": "Cwhk14C-PFQ0",
        "outputId": "65e95c0e-482d-40bd-cb31-128d7cb55125"
      },
      "source": [
        "data = np.concatenate((np.linspace(-3,-1,10), np.linspace(-1,2,10), np.linspace(5,8,10)), axis=0)\r\n",
        "# data = np.random.randint(-3,2,3)\r\n",
        "plt.plot(data, norm.pdf(data,mean,std))\r\n",
        "plt.ylabel(\"Density\")\r\n",
        "plt.xlabel(\"Data\")\r\n",
        "plt.show()"
      ],
      "execution_count": 97,
      "outputs": [
        {
          "output_type": "display_data",
          "data": {
            "image/png": "[encoded data removed]",
            "text/plain": [
              "<Figure size 432x288 with 1 Axes>"
            ]
          },
          "metadata": {
            "tags": [],
            "needs_background": "light"
          }
        }
      ]
    }
  ]
}